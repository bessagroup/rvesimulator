{
 "cells": [
  {
   "cell_type": "code",
   "execution_count": 1,
   "id": "231a01b1",
   "metadata": {},
   "outputs": [],
   "source": [
    "# import needed libraries\n",
    "import sys\n",
    "from collections import OrderedDict\n",
    "\n",
    "from matplotlib import pyplot as plt\n",
    "\n",
    "# path of local project\n",
    "import rvesimulator"
   ]
  },
  {
   "cell_type": "code",
   "execution_count": 2,
   "id": "6b951885",
   "metadata": {},
   "outputs": [
    {
     "name": "stderr",
     "output_type": "stream",
     "text": [
      "2023-07-24 11:49:03,907 - Imported f3dasm (version: 1.2.0)\n"
     ]
    }
   ],
   "source": [
    "from rvesimulator.benchmark_master_functions.two_materials_sve import VonMisesPlasticElasticRegularLoads"
   ]
  },
  {
   "cell_type": "code",
   "execution_count": 7,
   "id": "c5117781",
   "metadata": {},
   "outputs": [],
   "source": [
    "samples = {\"youngs_modulus_matrix\": 200.0, \"poisson_ratio_matrix\": 0.3}"
   ]
  },
  {
   "cell_type": "code",
   "execution_count": 8,
   "id": "2f18850c",
   "metadata": {},
   "outputs": [],
   "source": [
    "def plot_results(results, sample):\n",
    "    fig, ax = plt.subplots(1, 3, figsize=(15, 3))\n",
    "    pparam = dict(xlabel=\"$\\epsilon_{xx}$\", ylabel=\"$\\sigma_{xx}$ (MPa)\")\n",
    "    ax[0].plot(\n",
    "        results[\"strain\"][:, 0, 0],\n",
    "        results[\"stress\"][:, 0, 0],\n",
    "        label=f'E= {sample[\"youngs_modulus_matrix\"]:.2f}, v= {sample[\"poisson_ratio_matrix\"]:.2f}',\n",
    "    )\n",
    "    ax[0].legend()\n",
    "    ax[0].set(**pparam)\n",
    "\n",
    "    pparam = dict(xlabel=\"$\\epsilon_{yy}$\", ylabel=\"$\\sigma_{yy}$ (MPa)\")\n",
    "    ax[1].plot(\n",
    "        results[\"strain\"][:, 1, 1],\n",
    "        results[\"stress\"][:, 1, 1],\n",
    "        label=f'E= {sample[\"youngs_modulus_matrix\"]:.2f}, v= {sample[\"poisson_ratio_matrix\"]:.2f}',\n",
    "    )\n",
    "    ax[1].legend()\n",
    "    ax[1].set(**pparam)\n",
    "\n",
    "    pparam = dict(xlabel=\"$\\epsilon_{xy}$\", ylabel=\"$\\sigma_{xy}$ (MPa)\")\n",
    "    ax[2].plot(\n",
    "        results[\"strain\"][:, 1, 0],\n",
    "        results[\"stress\"][:, 1, 0],\n",
    "        label=f'E= {sample[\"youngs_modulus_matrix\"]:.2f}, v= {sample[\"poisson_ratio_matrix\"]:.2f}',\n",
    "    )\n",
    "\n",
    "    ax[2].legend()\n",
    "    ax[2].set(**pparam)"
   ]
  },
  {
   "cell_type": "code",
   "execution_count": 9,
   "id": "e916980e",
   "metadata": {},
   "outputs": [
    {
     "name": "stdout",
     "output_type": "stream",
     "text": [
      "Simulation information: \n",
      "\n",
      "{\n",
      "    \"job_name\": \"two_materials_sve\",\n",
      "    \"size\": 1.0,\n",
      "    \"location_information\": [\n",
      "        [\n",
      "            0.5,\n",
      "            0.5,\n",
      "            0.2,\n",
      "            1\n",
      "        ]\n",
      "    ],\n",
      "    \"youngs_modulus_matrix\": 100.0,\n",
      "    \"poisson_ratio_matrix\": 0.3,\n",
      "    \"hardening_law\": \"swift\",\n",
      "    \"hardening_paras\": {\n",
      "        \"yield_stress\": 0.5,\n",
      "        \"a\": 0.2,\n",
      "        \"b\": 0.4\n",
      "    },\n",
      "    \"youngs_modulus_fiber\": 1.0,\n",
      "    \"poisson_ratio_fiber\": 0.19,\n",
      "    \"mesh_partition\": 30,\n",
      "    \"strain\": [\n",
      "        0.05,\n",
      "        0.0,\n",
      "        0.0\n",
      "    ],\n",
      "    \"num_steps\": 100,\n",
      "    \"simulation_time\": 1.0,\n",
      "    \"num_cpu\": 6,\n",
      "    \"platform\": \"ubuntu\"\n",
      "}\n"
     ]
    }
   ],
   "source": [
    "von_mises_case = VonMisesPlasticElasticRegularLoads()\n",
    "von_mises_case.update_sim_info(sve_geometry_benchmark=\"task5\", radius=0.1, strain=[\n",
    "                               0.05, 0.00, 0.00], yield_stress=0.5, a=0.2, b=0.4, num_cpu=6, print_info=True)"
   ]
  },
  {
   "cell_type": "code",
   "execution_count": 10,
   "id": "31f6252c",
   "metadata": {},
   "outputs": [
    {
     "name": "stdout",
     "output_type": "stream",
     "text": [
      "/home/jiaxiangyi/Documents/rvesimulator/tutorials/Data/case_0\n",
      "##################################################\n",
      "############ start abaqus simulation ############\n",
      "##################################################\n"
     ]
    },
    {
     "name": "stderr",
     "output_type": "stream",
     "text": [
      "Abaqus License Manager checked out the following license:\n",
      "\"cae\" from Flexnet server flexserv1.tudelft.nl\n",
      "<13 out of 30 licenses remain available>.\n"
     ]
    },
    {
     "name": "stdout",
     "output_type": "stream",
     "text": [
      "\n",
      "*** ABAQUS/ABQcaeK rank 0 terminated by signal 15 (Terminated)\n",
      "\n",
      "simulation time :25.003491 s\n",
      "##################################################\n",
      "############## abaqus post analysis ##############\n",
      "##################################################\n",
      "Abaqus Error: cae exited with an error.\n"
     ]
    }
   ],
   "source": [
    "results_von_mises = von_mises_case.run_simulation(\n",
    "    sample=samples, third_folder_index=0)"
   ]
  },
  {
   "cell_type": "code",
   "execution_count": 7,
   "id": "9d6939c9",
   "metadata": {},
   "outputs": [
    {
     "ename": "KeyError",
     "evalue": "1",
     "output_type": "error",
     "traceback": [
      "\u001b[0;31m---------------------------------------------------------------------------\u001b[0m",
      "\u001b[0;31mKeyError\u001b[0m                                  Traceback (most recent call last)",
      "File \u001b[0;32m~/anaconda3/envs/f3dasm_env/lib/python3.10/site-packages/pandas/core/indexes/base.py:3621\u001b[0m, in \u001b[0;36mIndex.get_loc\u001b[0;34m(self, key, method, tolerance)\u001b[0m\n\u001b[1;32m   3620\u001b[0m \u001b[39mtry\u001b[39;00m:\n\u001b[0;32m-> 3621\u001b[0m     \u001b[39mreturn\u001b[39;00m \u001b[39mself\u001b[39;49m\u001b[39m.\u001b[39;49m_engine\u001b[39m.\u001b[39;49mget_loc(casted_key)\n\u001b[1;32m   3622\u001b[0m \u001b[39mexcept\u001b[39;00m \u001b[39mKeyError\u001b[39;00m \u001b[39mas\u001b[39;00m err:\n",
      "File \u001b[0;32m~/anaconda3/envs/f3dasm_env/lib/python3.10/site-packages/pandas/_libs/index.pyx:136\u001b[0m, in \u001b[0;36mpandas._libs.index.IndexEngine.get_loc\u001b[0;34m()\u001b[0m\n",
      "File \u001b[0;32m~/anaconda3/envs/f3dasm_env/lib/python3.10/site-packages/pandas/_libs/index.pyx:163\u001b[0m, in \u001b[0;36mpandas._libs.index.IndexEngine.get_loc\u001b[0;34m()\u001b[0m\n",
      "File \u001b[0;32mpandas/_libs/hashtable_class_helper.pxi:2131\u001b[0m, in \u001b[0;36mpandas._libs.hashtable.Int64HashTable.get_item\u001b[0;34m()\u001b[0m\n",
      "File \u001b[0;32mpandas/_libs/hashtable_class_helper.pxi:2140\u001b[0m, in \u001b[0;36mpandas._libs.hashtable.Int64HashTable.get_item\u001b[0;34m()\u001b[0m\n",
      "\u001b[0;31mKeyError\u001b[0m: 1",
      "\nThe above exception was the direct cause of the following exception:\n",
      "\u001b[0;31mKeyError\u001b[0m                                  Traceback (most recent call last)",
      "\u001b[1;32m/home/jiaxiangyi/Documents/rvesimulator/toturials/two_materials_sve_problems.ipynb Cell 7\u001b[0m in \u001b[0;36m1\n\u001b[0;32m----> <a href='vscode-notebook-cell:/home/jiaxiangyi/Documents/rvesimulator/toturials/two_materials_sve_problems.ipynb#W6sZmlsZQ%3D%3D?line=0'>1</a>\u001b[0m plot_results(results_von_mises)\n",
      "\u001b[1;32m/home/jiaxiangyi/Documents/rvesimulator/toturials/two_materials_sve_problems.ipynb Cell 7\u001b[0m in \u001b[0;36m1\n\u001b[1;32m      <a href='vscode-notebook-cell:/home/jiaxiangyi/Documents/rvesimulator/toturials/two_materials_sve_problems.ipynb#W6sZmlsZQ%3D%3D?line=3'>4</a>\u001b[0m pparam \u001b[39m=\u001b[39m \u001b[39mdict\u001b[39m(xlabel\u001b[39m=\u001b[39m\u001b[39m\"\u001b[39m\u001b[39m$\u001b[39m\u001b[39m\\\u001b[39m\u001b[39mepsilon_\u001b[39m\u001b[39m{xx}\u001b[39;00m\u001b[39m$\u001b[39m\u001b[39m\"\u001b[39m, ylabel\u001b[39m=\u001b[39m\u001b[39m\"\u001b[39m\u001b[39m$\u001b[39m\u001b[39m\\\u001b[39m\u001b[39msigma_\u001b[39m\u001b[39m{xx}\u001b[39;00m\u001b[39m$ (MPa)\u001b[39m\u001b[39m\"\u001b[39m)\n\u001b[1;32m      <a href='vscode-notebook-cell:/home/jiaxiangyi/Documents/rvesimulator/toturials/two_materials_sve_problems.ipynb#W6sZmlsZQ%3D%3D?line=4'>5</a>\u001b[0m ax[\u001b[39m0\u001b[39m]\u001b[39m.\u001b[39mplot(\n\u001b[1;32m      <a href='vscode-notebook-cell:/home/jiaxiangyi/Documents/rvesimulator/toturials/two_materials_sve_problems.ipynb#W6sZmlsZQ%3D%3D?line=5'>6</a>\u001b[0m     responses[\u001b[39m\"\u001b[39m\u001b[39mstrain\u001b[39m\u001b[39m\"\u001b[39m][\u001b[39m0\u001b[39m][:, \u001b[39m0\u001b[39m, \u001b[39m0\u001b[39m],\n\u001b[1;32m      <a href='vscode-notebook-cell:/home/jiaxiangyi/Documents/rvesimulator/toturials/two_materials_sve_problems.ipynb#W6sZmlsZQ%3D%3D?line=6'>7</a>\u001b[0m     responses[\u001b[39m\"\u001b[39m\u001b[39mstress\u001b[39m\u001b[39m\"\u001b[39m][\u001b[39m0\u001b[39m][:, \u001b[39m0\u001b[39m, \u001b[39m0\u001b[39m],\n\u001b[1;32m      <a href='vscode-notebook-cell:/home/jiaxiangyi/Documents/rvesimulator/toturials/two_materials_sve_problems.ipynb#W6sZmlsZQ%3D%3D?line=7'>8</a>\u001b[0m     label\u001b[39m=\u001b[39m\u001b[39mf\u001b[39m\u001b[39m'\u001b[39m\u001b[39myoungs_modulus= \u001b[39m\u001b[39m{\u001b[39;00mresults\u001b[39m.\u001b[39mdata[\u001b[39m\"\u001b[39m\u001b[39minput\u001b[39m\u001b[39m\"\u001b[39m][\u001b[39m\"\u001b[39m\u001b[39myoungs_modulus\u001b[39m\u001b[39m\"\u001b[39m][\u001b[39m0\u001b[39m]\u001b[39m:\u001b[39;00m\u001b[39m3f\u001b[39m\u001b[39m}\u001b[39;00m\u001b[39m'\u001b[39m,\n\u001b[1;32m      <a href='vscode-notebook-cell:/home/jiaxiangyi/Documents/rvesimulator/toturials/two_materials_sve_problems.ipynb#W6sZmlsZQ%3D%3D?line=8'>9</a>\u001b[0m )\n\u001b[1;32m     <a href='vscode-notebook-cell:/home/jiaxiangyi/Documents/rvesimulator/toturials/two_materials_sve_problems.ipynb#W6sZmlsZQ%3D%3D?line=9'>10</a>\u001b[0m ax[\u001b[39m0\u001b[39m]\u001b[39m.\u001b[39mplot(\n\u001b[0;32m---> <a href='vscode-notebook-cell:/home/jiaxiangyi/Documents/rvesimulator/toturials/two_materials_sve_problems.ipynb#W6sZmlsZQ%3D%3D?line=10'>11</a>\u001b[0m     responses[\u001b[39m\"\u001b[39;49m\u001b[39mstrain\u001b[39;49m\u001b[39m\"\u001b[39;49m][\u001b[39m1\u001b[39;49m][:, \u001b[39m0\u001b[39m, \u001b[39m0\u001b[39m],\n\u001b[1;32m     <a href='vscode-notebook-cell:/home/jiaxiangyi/Documents/rvesimulator/toturials/two_materials_sve_problems.ipynb#W6sZmlsZQ%3D%3D?line=11'>12</a>\u001b[0m     responses[\u001b[39m\"\u001b[39m\u001b[39mstress\u001b[39m\u001b[39m\"\u001b[39m][\u001b[39m1\u001b[39m][:, \u001b[39m0\u001b[39m, \u001b[39m0\u001b[39m],\n\u001b[1;32m     <a href='vscode-notebook-cell:/home/jiaxiangyi/Documents/rvesimulator/toturials/two_materials_sve_problems.ipynb#W6sZmlsZQ%3D%3D?line=12'>13</a>\u001b[0m     label\u001b[39m=\u001b[39m\u001b[39mf\u001b[39m\u001b[39m'\u001b[39m\u001b[39myoungs_modulus= \u001b[39m\u001b[39m{\u001b[39;00mresults\u001b[39m.\u001b[39mdata[\u001b[39m\"\u001b[39m\u001b[39minput\u001b[39m\u001b[39m\"\u001b[39m][\u001b[39m\"\u001b[39m\u001b[39myoungs_modulus\u001b[39m\u001b[39m\"\u001b[39m][\u001b[39m1\u001b[39m]\u001b[39m:\u001b[39;00m\u001b[39m3f\u001b[39m\u001b[39m}\u001b[39;00m\u001b[39m'\u001b[39m,\n\u001b[1;32m     <a href='vscode-notebook-cell:/home/jiaxiangyi/Documents/rvesimulator/toturials/two_materials_sve_problems.ipynb#W6sZmlsZQ%3D%3D?line=13'>14</a>\u001b[0m )\n\u001b[1;32m     <a href='vscode-notebook-cell:/home/jiaxiangyi/Documents/rvesimulator/toturials/two_materials_sve_problems.ipynb#W6sZmlsZQ%3D%3D?line=14'>15</a>\u001b[0m ax[\u001b[39m0\u001b[39m]\u001b[39m.\u001b[39mlegend()\n\u001b[1;32m     <a href='vscode-notebook-cell:/home/jiaxiangyi/Documents/rvesimulator/toturials/two_materials_sve_problems.ipynb#W6sZmlsZQ%3D%3D?line=15'>16</a>\u001b[0m ax[\u001b[39m0\u001b[39m]\u001b[39m.\u001b[39mset(\u001b[39m*\u001b[39m\u001b[39m*\u001b[39mpparam)\n",
      "File \u001b[0;32m~/anaconda3/envs/f3dasm_env/lib/python3.10/site-packages/pandas/core/series.py:958\u001b[0m, in \u001b[0;36mSeries.__getitem__\u001b[0;34m(self, key)\u001b[0m\n\u001b[1;32m    955\u001b[0m     \u001b[39mreturn\u001b[39;00m \u001b[39mself\u001b[39m\u001b[39m.\u001b[39m_values[key]\n\u001b[1;32m    957\u001b[0m \u001b[39melif\u001b[39;00m key_is_scalar:\n\u001b[0;32m--> 958\u001b[0m     \u001b[39mreturn\u001b[39;00m \u001b[39mself\u001b[39;49m\u001b[39m.\u001b[39;49m_get_value(key)\n\u001b[1;32m    960\u001b[0m \u001b[39mif\u001b[39;00m is_hashable(key):\n\u001b[1;32m    961\u001b[0m     \u001b[39m# Otherwise index.get_value will raise InvalidIndexError\u001b[39;00m\n\u001b[1;32m    962\u001b[0m     \u001b[39mtry\u001b[39;00m:\n\u001b[1;32m    963\u001b[0m         \u001b[39m# For labels that don't resolve as scalars like tuples and frozensets\u001b[39;00m\n",
      "File \u001b[0;32m~/anaconda3/envs/f3dasm_env/lib/python3.10/site-packages/pandas/core/series.py:1069\u001b[0m, in \u001b[0;36mSeries._get_value\u001b[0;34m(self, label, takeable)\u001b[0m\n\u001b[1;32m   1066\u001b[0m     \u001b[39mreturn\u001b[39;00m \u001b[39mself\u001b[39m\u001b[39m.\u001b[39m_values[label]\n\u001b[1;32m   1068\u001b[0m \u001b[39m# Similar to Index.get_value, but we do not fall back to positional\u001b[39;00m\n\u001b[0;32m-> 1069\u001b[0m loc \u001b[39m=\u001b[39m \u001b[39mself\u001b[39;49m\u001b[39m.\u001b[39;49mindex\u001b[39m.\u001b[39;49mget_loc(label)\n\u001b[1;32m   1070\u001b[0m \u001b[39mreturn\u001b[39;00m \u001b[39mself\u001b[39m\u001b[39m.\u001b[39mindex\u001b[39m.\u001b[39m_get_values_for_loc(\u001b[39mself\u001b[39m, loc, label)\n",
      "File \u001b[0;32m~/anaconda3/envs/f3dasm_env/lib/python3.10/site-packages/pandas/core/indexes/base.py:3623\u001b[0m, in \u001b[0;36mIndex.get_loc\u001b[0;34m(self, key, method, tolerance)\u001b[0m\n\u001b[1;32m   3621\u001b[0m     \u001b[39mreturn\u001b[39;00m \u001b[39mself\u001b[39m\u001b[39m.\u001b[39m_engine\u001b[39m.\u001b[39mget_loc(casted_key)\n\u001b[1;32m   3622\u001b[0m \u001b[39mexcept\u001b[39;00m \u001b[39mKeyError\u001b[39;00m \u001b[39mas\u001b[39;00m err:\n\u001b[0;32m-> 3623\u001b[0m     \u001b[39mraise\u001b[39;00m \u001b[39mKeyError\u001b[39;00m(key) \u001b[39mfrom\u001b[39;00m \u001b[39merr\u001b[39;00m\n\u001b[1;32m   3624\u001b[0m \u001b[39mexcept\u001b[39;00m \u001b[39mTypeError\u001b[39;00m:\n\u001b[1;32m   3625\u001b[0m     \u001b[39m# If we have a listlike key, _check_indexing_error will raise\u001b[39;00m\n\u001b[1;32m   3626\u001b[0m     \u001b[39m#  InvalidIndexError. Otherwise we fall through and re-raise\u001b[39;00m\n\u001b[1;32m   3627\u001b[0m     \u001b[39m#  the TypeError.\u001b[39;00m\n\u001b[1;32m   3628\u001b[0m     \u001b[39mself\u001b[39m\u001b[39m.\u001b[39m_check_indexing_error(key)\n",
      "\u001b[0;31mKeyError\u001b[0m: 1"
     ]
    },
    {
     "data": {
      "image/png": "[encoded data removed]",
      "text/plain": [
       "<Figure size 1500x300 with 3 Axes>"
      ]
     },
     "metadata": {},
     "output_type": "display_data"
    }
   ],
   "source": [
    "plot_results(results_von_mises, sample=samples)"
   ]
  },
  {
   "cell_type": "code",
   "execution_count": null,
   "id": "4ddf2c5f",
   "metadata": {},
   "outputs": [],
   "source": [
    "from rvesimulator.additions.ampitudesampler import AmplitudeGenerator\n",
    "from rvesimulator.benchmark_master_functions.two_materials_sve import VonMisesPlasticElasticPathLoads"
   ]
  },
  {
   "cell_type": "code",
   "execution_count": null,
   "id": "4f800d7a",
   "metadata": {},
   "outputs": [],
   "source": [
    "\n",
    "# create the doe\n",
    "num_amplitude = 2\n",
    "path_sampler = AmplitudeGenerator(num_dim=3)\n",
    "paths = path_sampler.get_amplitude(\n",
    "    num_amplitude=2,\n",
    "    num_control=8,\n",
    "    num_steps=100,\n",
    "    arg_name=\"strain_amplitude\",\n",
    "    seed=1,\n",
    ")\n",
    "\n",
    "samples_dict = paths.to_dict(\"records\")\n",
    "print(paths)"
   ]
  },
  {
   "cell_type": "code",
   "execution_count": null,
   "id": "9598f66d",
   "metadata": {},
   "outputs": [],
   "source": [
    "\n",
    "path_dependent_problem = VonMisesPlasticElasticPathLoads()\n",
    "path_dependent_problem.update_sim_info(\n",
    "    strain=[0.02, 0.02, 0.02], yield_stress=0.5, a=0.2, b=0.4, num_cpu=6, print_info=True)"
   ]
  },
  {
   "cell_type": "code",
   "execution_count": null,
   "id": "21c89513",
   "metadata": {},
   "outputs": [],
   "source": [
    "path_dependent_results = {}\n",
    "# calculate the initial responses of simulation\n",
    "for ii in range(len(samples_dict)):\n",
    "    path_dependent_results[ii] = path_dependent_problem.run_simulation(\n",
    "        sample=samples_dict[ii], third_folder_index=ii)"
   ]
  },
  {
   "cell_type": "code",
   "execution_count": null,
   "id": "680db480",
   "metadata": {},
   "outputs": [],
   "source": [
    "def plot_path_dependent(results, index):\n",
    "    fig, ax = plt.subplots(2, 3, figsize=(16, 8))\n",
    "    pparam = dict(xlabel=\"time step\", ylabel=r\"$\\varepsilon_{xx}$ (MPa)\")\n",
    "    ax[0, 0].plot(\n",
    "        results[index][\"strain\"][:, 0, 0],\n",
    "    )\n",
    "    ax[0, 0].set(**pparam)\n",
    "    pparam = dict(xlabel=\"time step\", ylabel=r\"$\\varepsilon_{xy}$ (MPa)\")\n",
    "    ax[0, 1].plot(\n",
    "        results[index][\"strain\"][:, 0, 1],\n",
    "    )\n",
    "    ax[0, 1].set(**pparam)\n",
    "    pparam = dict(xlabel=\"time step\", ylabel=r\"$\\varepsilon_{yy}$ (MPa)\")\n",
    "    ax[0, 2].plot(\n",
    "        results[index][\"strain\"][:, 1, 1],\n",
    "    )\n",
    "    ax[0, 2].set(**pparam)\n",
    "\n",
    "    pparam = dict(xlabel=\"time step\", ylabel=r\"$\\sigma_{xx}$ (MPa)\")\n",
    "    ax[1, 0].plot(\n",
    "        results[index][\"stress\"][:, 0, 0],\n",
    "    )\n",
    "    ax[1, 0].set(**pparam)\n",
    "    pparam = dict(xlabel=\"time step\", ylabel=r\"$\\sigma_{xy}$ (MPa)\")\n",
    "    ax[1, 1].plot(\n",
    "        results[index][\"stress\"][:, 0, 1],\n",
    "    )\n",
    "    ax[1, 1].set(**pparam)\n",
    "    pparam = dict(xlabel=\"time step\", ylabel=r\"$\\sigma_{yy}$ (MPa)\")\n",
    "    ax[1, 2].plot(\n",
    "        results[index][\"stress\"][:, 1, 1],\n",
    "\n",
    "    )\n",
    "    plt.show()"
   ]
  },
  {
   "cell_type": "code",
   "execution_count": null,
   "id": "fa6bc5e8",
   "metadata": {},
   "outputs": [],
   "source": [
    "plot_path_dependent(path_dependent_results, 1)\n",
    "# path_dependent_results.keys()"
   ]
  },
  {
   "cell_type": "code",
   "execution_count": null,
   "id": "645f1f85",
   "metadata": {},
   "outputs": [],
   "source": []
  }
 ],
 "metadata": {
  "kernelspec": {
   "display_name": "MLenv3",
   "language": "python",
   "name": "python3"
  },
  "language_info": {
   "codemirror_mode": {
    "name": "ipython",
    "version": 3
   },
   "file_extension": ".py",
   "mimetype": "text/x-python",
   "name": "python",
   "nbconvert_exporter": "python",
   "pygments_lexer": "ipython3",
   "version": "3.10.5"
  },
  "toc": {
   "base_numbering": 1,
   "nav_menu": {},
   "number_sections": true,
   "sideBar": true,
   "skip_h1_title": false,
   "title_cell": "Table of Contents",
   "title_sidebar": "Contents",
   "toc_cell": false,
   "toc_position": {},
   "toc_section_display": true,
   "toc_window_display": false
  },
  "varInspector": {
   "cols": {
    "lenName": 16,
    "lenType": 16,
    "lenVar": 40
   },
   "kernels_config": {
    "python": {
     "delete_cmd_postfix": "",
     "delete_cmd_prefix": "del ",
     "library": "var_list.py",
     "varRefreshCmd": "print(var_dic_list())"
    },
    "r": {
     "delete_cmd_postfix": ") ",
     "delete_cmd_prefix": "rm(",
     "library": "var_list.r",
     "varRefreshCmd": "cat(var_dic_list()) "
    }
   },
   "types_to_exclude": [
    "module",
    "function",
    "builtin_function_or_method",
    "instance",
    "_Feature"
   ],
   "window_display": false
  },
  "vscode": {
   "interpreter": {
    "hash": "a7ec99c0764c3ae073753260e70d5f074aece2b4c42e82c20841eabec9072993"
   }
  }
 },
 "nbformat": 4,
 "nbformat_minor": 5
}
