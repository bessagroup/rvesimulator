{
 "cells": [
  {
   "cell_type": "markdown",
   "metadata": {},
   "source": [
    "## Two Elastic RVE Demo"
   ]
  },
  {
   "cell_type": "code",
   "execution_count": 1,
   "metadata": {},
   "outputs": [],
   "source": [
    "# import the necessary functions\n",
    "from rvesimulator.benchmarks import ElasticRVE2D\n",
    "from matplotlib import pyplot as plt"
   ]
  },
  {
   "cell_type": "code",
   "execution_count": 5,
   "metadata": {},
   "outputs": [],
   "source": [
    "def plot_results(results, sample):\n",
    "    fig, ax = plt.subplots(1, 3, figsize=(15, 3))\n",
    "    pparam = dict(xlabel=\"$\\epsilon_{xx}$\", ylabel=\"$\\sigma_{xx}$ (MPa)\")\n",
    "    ax[0].plot(\n",
    "        results[\"strain\"][:, 0, 0],\n",
    "        results[\"stress\"][:, 0, 0],\n",
    "        label=f'Youngs modulus = {sample[\"youngs_modulus_matrix\"]:.2f}',\n",
    "    )\n",
    "    ax[0].legend()\n",
    "    ax[0].set(**pparam)\n",
    "\n",
    "    pparam = dict(xlabel=\"$\\epsilon_{yy}$\", ylabel=\"$\\sigma_{yy}$ (MPa)\")\n",
    "    ax[1].plot(\n",
    "        results[\"strain\"][:, 1, 1],\n",
    "        results[\"stress\"][:, 1, 1],\n",
    "        label=f'Youngs modulus = {sample[\"youngs_modulus_matrix\"]:.2f}'\n",
    "    )\n",
    "    ax[1].legend()\n",
    "    ax[1].set(**pparam)\n",
    "\n",
    "    pparam = dict(xlabel=\"$\\epsilon_{xy}$\", ylabel=\"$\\sigma_{xy}$ (MPa)\")\n",
    "    ax[2].plot(\n",
    "        results[\"strain\"][:, 1, 0],\n",
    "        results[\"stress\"][:, 1, 0],\n",
    "       label=f'Youngs modulus = {sample[\"youngs_modulus_matrix\"]:.2f}'\n",
    "    )\n",
    "\n",
    "    ax[2].legend()\n",
    "    ax[2].set(**pparam)"
   ]
  },
  {
   "cell_type": "code",
   "execution_count": 3,
   "metadata": {},
   "outputs": [
    {
     "name": "stdout",
     "output_type": "stream",
     "text": [
      "Simulation information: \n",
      "\n",
      "{\n",
      "    \"size\": 0.048,\n",
      "    \"radius_mu\": 0.003,\n",
      "    \"radius_std\": 0.0,\n",
      "    \"vol_req\": 0.3,\n",
      "    \"youngs_modulus_matrix\": 100.0,\n",
      "    \"poisson_ratio_matrix\": 0.3,\n",
      "    \"youngs_modulus_fiber\": 1.0,\n",
      "    \"poisson_ratio_fiber\": 0.19,\n",
      "    \"mesh_partition\": 30,\n",
      "    \"strain\": [\n",
      "        0.1,\n",
      "        0.0,\n",
      "        0.0\n",
      "    ],\n",
      "    \"num_steps\": 10,\n",
      "    \"simulation_time\": 1.0,\n",
      "    \"num_cpu\": 1,\n",
      "    \"mini_dist_factor\": 1.3\n",
      "}\n",
      "##################################################\n",
      "############# start .inp generation  #############\n",
      "##################################################\n"
     ]
    },
    {
     "name": "stderr",
     "output_type": "stream",
     "text": [
      "Abaqus License Manager checked out the following license:\n",
      "\"cae\" from Flexnet server abaqus1.lic.tudelft.nl\n",
      "<18 out of 30 licenses remain available>.\n"
     ]
    },
    {
     "name": "stdout",
     "output_type": "stream",
     "text": [
      "inp generation finished with  :2.056940 s\n",
      "##################################################\n",
      "########## submit .inp to abaqus solver ##########\n",
      "##################################################\n",
      "Abaqus Warning: The .inp extension has been removed from the job identifier\n",
      "Analysis initiated from SIMULIA established products\n",
      "Abaqus JOB cddm_rve\n",
      "Abaqus 2023\n"
     ]
    },
    {
     "name": "stderr",
     "output_type": "stream",
     "text": [
      "Abaqus License Manager checked out the following licenses:\n",
      "Abaqus/Standard checked out 5 tokens from Flexnet server abaqus1.lic.tudelft.nl.\n",
      "<224 out of 450 licenses remain available>.\n"
     ]
    },
    {
     "name": "stdout",
     "output_type": "stream",
     "text": [
      "Begin Analysis Input File Processor\n",
      "Wed Oct  9 09:56:28 2024\n",
      "Run pre\n",
      "Wed Oct  9 09:56:29 2024\n",
      "End Analysis Input File Processor\n",
      "Begin Abaqus/Standard Analysis\n",
      "Wed Oct  9 09:56:29 2024\n",
      "Run standard\n",
      "Wed Oct  9 09:56:33 2024\n",
      "End Abaqus/Standard Analysis\n",
      "Begin SIM Wrap-up\n",
      "Wed Oct  9 09:56:33 2024\n",
      "Run SMASimUtility\n",
      "Wed Oct  9 09:56:33 2024\n",
      "End SIM Wrap-up\n",
      "Abaqus JOB cddm_rve COMPLETED\n",
      "abaqus solver finished with  :5.801286 s\n",
      "##################################################\n",
      "############# start post processing  #############\n",
      "##################################################\n"
     ]
    },
    {
     "name": "stderr",
     "output_type": "stream",
     "text": [
      "Abaqus License Manager checked out the following license:\n",
      "\"cae\" from Flexnet server abaqus1.lic.tudelft.nl\n",
      "<17 out of 30 licenses remain available>.\n"
     ]
    },
    {
     "name": "stdout",
     "output_type": "stream",
     "text": [
      "post process finished with  :1.426739 s\n"
     ]
    }
   ],
   "source": [
    "\n",
    "elastic_case = ElasticRVE2D()\n",
    "\n",
    "elastic_case.update_sim_info(print_info=True)\n",
    "\n",
    "# try to update the young modulus of the matrix to 200\n",
    "samples = {\"youngs_modulus_matrix\":200}\n",
    "\n",
    "results = elastic_case.run_simulation(sample=samples,\n",
    "                            folder_index=0, \n",
    "                            delete_odb=False)\n",
    "\n",
    "\n"
   ]
  },
  {
   "cell_type": "code",
   "execution_count": 6,
   "metadata": {},
   "outputs": [
    {
     "data": {
      "image/png": "[encoded data removed]",
      "text/plain": [
       "<Figure size 1500x300 with 3 Axes>"
      ]
     },
     "metadata": {},
     "output_type": "display_data"
    }
   ],
   "source": [
    "plot_results(results, samples)"
   ]
  },
  {
   "cell_type": "markdown",
   "metadata": {},
   "source": [
    "## Have fun!"
   ]
  }
 ],
 "metadata": {
  "kernelspec": {
   "display_name": "f3dasm_env",
   "language": "python",
   "name": "python3"
  },
  "language_info": {
   "codemirror_mode": {
    "name": "ipython",
    "version": 3
   },
   "file_extension": ".py",
   "mimetype": "text/x-python",
   "name": "python",
   "nbconvert_exporter": "python",
   "pygments_lexer": "ipython3",
   "version": "3.8.18"
  }
 },
 "nbformat": 4,
 "nbformat_minor": 2
}
