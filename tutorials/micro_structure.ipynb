{
 "cells": [
  {
   "cell_type": "markdown",
   "metadata": {},
   "source": [
    "### microstructure\n",
    "\n",
    "Micro-structure generation is one of the most important issues in multi-scale simulation. Usually, we can generate a series of different micro-strcutures to reflect the actual distribution of two materials those fullfill an RVE.\n",
    "\n",
    "1. Components of RVE\n",
    "\n",
    "- Fiber material\n",
    "- Matrix material\n",
    "\n",
    "2. Schematic of RVE\n",
    "<center><img src=\"figures/Schematic_of_RVE.png\" width=\"300\"></center>\n",
    "\n",
    "<center>Figure 1. schemaric of RVE </center>\n",
    "\n",
    "---\n",
    "\n",
    "#### Selected algorithm for Micro-structure generation\n",
    "\n",
    "- Generating the micro-structures is a non-trival problem because there are many requirements such as the partiles should not overlap between each other, different shapes of partcles should provide, the particles also shoulf obey the periodical boundary conditions, and so on.\n",
    "- With regular shapes, such as disk, ellipse in 2D scenario, sphere in 3D scenario; we can obtain the analytical formula to describe their shapes. Therefore, it provides much more information to design an algorithm to generate the micro-structures. Moreover, most of those algorithms are based on techniques like Monte Carlo Simulation, Melocular dynamics and so forth, so there are no same micro-structures from two different realizations.\n",
    "- What's more, if the shapes are arbitrary then the generation of micro-structure becomes very difficult as an NP hard problem.\n",
    "\n",
    "--selected methods in this version of rve-simulator\n",
    "\n",
    "[1](https://www.sciencedirect.com/science/article/pii/S0266353808001048?casa_token=s9ISzrlWlGYAAAAA:m0PtidsMewaSuJOFLYEKC9NhggEZa0U01-rxW67DHR1ehCwBMg3gqGnzX3XTMxNF_DwGCxI_) Melro, A. R., Camanho, P. P., & Pinho, S. T. (2008). Generation of random distribution of fibres in long-fibre reinforced composites. Composites Science and Technology, 68(9), 2092-2102.\n"
   ]
  },
  {
   "cell_type": "code",
   "execution_count": 1,
   "metadata": {},
   "outputs": [],
   "source": [
    "from rvesimulator.microstructure.circle_particles import CircleParticles"
   ]
  },
  {
   "cell_type": "code",
   "execution_count": 2,
   "metadata": {},
   "outputs": [],
   "source": [
    "# initialize a 2d rve microstructure generator\n",
    "microstructure_generator_2d = CircleParticles(\n",
    "    length=1.0, width=1.0, radius_mu=0.050, radius_std=0.001, vol_req=0.30\n",
    ")\n",
    "# generate by specific seed\n",
    "microstructure_generator_2d.generate_microstructure(seed=3)\n",
    "# plot\n",
    "microstructure_generator_2d.plot_microstructure(save_figure=True)"
   ]
  },
  {
   "cell_type": "code",
   "execution_count": 3,
   "metadata": {},
   "outputs": [
    {
     "data": {
      "image/png": "[encoded data removed]",
      "text/plain": [
       "<Figure size 640x480 with 1 Axes>"
      ]
     },
     "metadata": {},
     "output_type": "display_data"
    }
   ],
   "source": [
    "# show it by CRATE format\n",
    "microstructure_generator_2d.crate_rgmsh(num_discrete=600)\n",
    "microstructure_generator_2d.rgmsh_plot(save_fig=True, fig_name=\"rgmsh.png\")"
   ]
  }
 ],
 "metadata": {
  "kernelspec": {
   "display_name": "f3dasm_env",
   "language": "python",
   "name": "python3"
  },
  "language_info": {
   "codemirror_mode": {
    "name": "ipython",
    "version": 3
   },
   "file_extension": ".py",
   "mimetype": "text/x-python",
   "name": "python",
   "nbconvert_exporter": "python",
   "pygments_lexer": "ipython3",
   "version": "3.10.5"
  },
  "orig_nbformat": 4
 },
 "nbformat": 4,
 "nbformat_minor": 2
}
