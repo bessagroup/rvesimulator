{
 "cells": [
  {
   "cell_type": "code",
   "execution_count": 1,
   "metadata": {},
   "outputs": [],
   "source": [
    "import pandas as pd\n",
    "from scipy.stats import qmc\n",
    "import matplotlib.pyplot as plt\n",
    "import jax\n",
    "jax.config.update('jax_enable_x64', True)\n",
    "import jax.numpy as jnp\n",
    "\n",
    "from pathlib import Path"
   ]
  },
  {
   "cell_type": "code",
   "execution_count": 2,
   "metadata": {},
   "outputs": [],
   "source": [
    "directory_path = Path.cwd()"
   ]
  },
  {
   "cell_type": "code",
   "execution_count": 3,
   "metadata": {},
   "outputs": [],
   "source": [
    "load_dataset_from_csv_file = True"
   ]
  },
  {
   "cell_type": "code",
   "execution_count": 4,
   "metadata": {},
   "outputs": [],
   "source": [
    "if not load_dataset_from_csv_file:\n",
    "    doe_file_name = Path('doe.csv')\n",
    "    length = len(pd.read_csv(directory_path / doe_file_name).index)\n",
    "    relative_path_to_output_folder = Path('outputs/538735.hpc06.hpc/hyperelastic_data/')\n",
    "    dataset = pd.DataFrame(columns=['F11', 'F12', 'F21', 'F22', 'P11', 'P12', 'P21', 'P22'])\n",
    "    for i in range(length):\n",
    "        experiment_folder = directory_path/relative_path_to_output_folder/ Path('point_{}'.format(i))\n",
    "        result_file = experiment_folder/ Path('results.p')    \n",
    "        try:\n",
    "            result = pd.read_pickle(result_file)\n",
    "\n",
    "            F = result['deformation_gradient'][-1]\n",
    "            P = result['pk1_stress'][-1]\n",
    "\n",
    "            dataset.loc[i] = [F[0,0], F[0,1], F[1,0], F[1,1], P[0,0], P[0,1], P[1,0], P[1,1]]\n",
    "\n",
    "        except:\n",
    "            print(\"No data\")\n",
    "        dataset.to_csv(directory_path / Path('hyperelastic_dataset.csv'), index=False)\n",
    "else:\n",
    "    dataset = pd.read_csv(directory_path / Path('hyperelastic_dataset.csv'))"
   ]
  },
  {
   "cell_type": "code",
   "execution_count": 5,
   "metadata": {},
   "outputs": [
    {
     "data": {
      "text/html": [
       "<div>\n",
       "<style scoped>\n",
       "    .dataframe tbody tr th:only-of-type {\n",
       "        vertical-align: middle;\n",
       "    }\n",
       "\n",
       "    .dataframe tbody tr th {\n",
       "        vertical-align: top;\n",
       "    }\n",
       "\n",
       "    .dataframe thead th {\n",
       "        text-align: right;\n",
       "    }\n",
       "</style>\n",
       "<table border=\"1\" class=\"dataframe\">\n",
       "  <thead>\n",
       "    <tr style=\"text-align: right;\">\n",
       "      <th></th>\n",
       "      <th>F11</th>\n",
       "      <th>F12</th>\n",
       "      <th>F21</th>\n",
       "      <th>F22</th>\n",
       "      <th>P11</th>\n",
       "      <th>P12</th>\n",
       "      <th>P21</th>\n",
       "      <th>P22</th>\n",
       "    </tr>\n",
       "  </thead>\n",
       "  <tbody>\n",
       "    <tr>\n",
       "      <th>0</th>\n",
       "      <td>0.500000</td>\n",
       "      <td>0.000000</td>\n",
       "      <td>2.675503e-35</td>\n",
       "      <td>0.500000</td>\n",
       "      <td>-1.003314e+03</td>\n",
       "      <td>5.300205e-13</td>\n",
       "      <td>2.714273e-12</td>\n",
       "      <td>-1.003314e+03</td>\n",
       "    </tr>\n",
       "    <tr>\n",
       "      <th>1</th>\n",
       "      <td>0.000000</td>\n",
       "      <td>-2.250000</td>\n",
       "      <td>2.250000e+00</td>\n",
       "      <td>0.000000</td>\n",
       "      <td>-2.033929e-13</td>\n",
       "      <td>-4.419506e+03</td>\n",
       "      <td>4.419506e+03</td>\n",
       "      <td>2.611245e-13</td>\n",
       "    </tr>\n",
       "    <tr>\n",
       "      <th>2</th>\n",
       "      <td>2.209710</td>\n",
       "      <td>-0.972272</td>\n",
       "      <td>2.209710e+00</td>\n",
       "      <td>0.972272</td>\n",
       "      <td>1.679296e+03</td>\n",
       "      <td>-3.498076e+03</td>\n",
       "      <td>1.679296e+03</td>\n",
       "      <td>3.498076e+03</td>\n",
       "    </tr>\n",
       "    <tr>\n",
       "      <th>3</th>\n",
       "      <td>-0.972270</td>\n",
       "      <td>-2.209710</td>\n",
       "      <td>9.722720e-01</td>\n",
       "      <td>-2.209710</td>\n",
       "      <td>-3.498072e+03</td>\n",
       "      <td>-1.679294e+03</td>\n",
       "      <td>3.498072e+03</td>\n",
       "      <td>-1.679291e+03</td>\n",
       "    </tr>\n",
       "    <tr>\n",
       "      <th>4</th>\n",
       "      <td>-0.693610</td>\n",
       "      <td>-1.674530</td>\n",
       "      <td>1.674530e+00</td>\n",
       "      <td>-0.693610</td>\n",
       "      <td>-8.414588e+02</td>\n",
       "      <td>-2.031470e+03</td>\n",
       "      <td>2.031470e+03</td>\n",
       "      <td>-8.414588e+02</td>\n",
       "    </tr>\n",
       "    <tr>\n",
       "      <th>5</th>\n",
       "      <td>3.291320</td>\n",
       "      <td>-1.363310</td>\n",
       "      <td>1.363310e+00</td>\n",
       "      <td>3.291320</td>\n",
       "      <td>1.664354e+04</td>\n",
       "      <td>-6.893985e+03</td>\n",
       "      <td>6.893985e+03</td>\n",
       "      <td>1.664354e+04</td>\n",
       "    </tr>\n",
       "    <tr>\n",
       "      <th>6</th>\n",
       "      <td>-0.085720</td>\n",
       "      <td>-0.111837</td>\n",
       "      <td>3.205976e-01</td>\n",
       "      <td>0.418276</td>\n",
       "      <td>-7.442957e+25</td>\n",
       "      <td>5.704834e+25</td>\n",
       "      <td>-1.990062e+25</td>\n",
       "      <td>1.525329e+25</td>\n",
       "    </tr>\n",
       "    <tr>\n",
       "      <th>7</th>\n",
       "      <td>0.358766</td>\n",
       "      <td>-2.482930</td>\n",
       "      <td>8.661370e-01</td>\n",
       "      <td>1.028462</td>\n",
       "      <td>7.740370e+02</td>\n",
       "      <td>-8.977612e+02</td>\n",
       "      <td>1.868693e+03</td>\n",
       "      <td>3.718649e+02</td>\n",
       "    </tr>\n",
       "    <tr>\n",
       "      <th>8</th>\n",
       "      <td>-1.134030</td>\n",
       "      <td>-0.310925</td>\n",
       "      <td>2.255730e-01</td>\n",
       "      <td>-1.563130</td>\n",
       "      <td>-7.806819e+02</td>\n",
       "      <td>-1.320304e+02</td>\n",
       "      <td>1.552870e+02</td>\n",
       "      <td>-6.637612e+02</td>\n",
       "    </tr>\n",
       "    <tr>\n",
       "      <th>9</th>\n",
       "      <td>0.566981</td>\n",
       "      <td>-3.279500</td>\n",
       "      <td>2.850410e+00</td>\n",
       "      <td>0.652333</td>\n",
       "      <td>2.513611e+03</td>\n",
       "      <td>-1.101967e+04</td>\n",
       "      <td>1.263678e+04</td>\n",
       "      <td>2.191946e+03</td>\n",
       "    </tr>\n",
       "  </tbody>\n",
       "</table>\n",
       "</div>"
      ],
      "text/plain": [
       "        F11       F12           F21       F22           P11           P12  \\\n",
       "0  0.500000  0.000000  2.675503e-35  0.500000 -1.003314e+03  5.300205e-13   \n",
       "1  0.000000 -2.250000  2.250000e+00  0.000000 -2.033929e-13 -4.419506e+03   \n",
       "2  2.209710 -0.972272  2.209710e+00  0.972272  1.679296e+03 -3.498076e+03   \n",
       "3 -0.972270 -2.209710  9.722720e-01 -2.209710 -3.498072e+03 -1.679294e+03   \n",
       "4 -0.693610 -1.674530  1.674530e+00 -0.693610 -8.414588e+02 -2.031470e+03   \n",
       "5  3.291320 -1.363310  1.363310e+00  3.291320  1.664354e+04 -6.893985e+03   \n",
       "6 -0.085720 -0.111837  3.205976e-01  0.418276 -7.442957e+25  5.704834e+25   \n",
       "7  0.358766 -2.482930  8.661370e-01  1.028462  7.740370e+02 -8.977612e+02   \n",
       "8 -1.134030 -0.310925  2.255730e-01 -1.563130 -7.806819e+02 -1.320304e+02   \n",
       "9  0.566981 -3.279500  2.850410e+00  0.652333  2.513611e+03 -1.101967e+04   \n",
       "\n",
       "            P21           P22  \n",
       "0  2.714273e-12 -1.003314e+03  \n",
       "1  4.419506e+03  2.611245e-13  \n",
       "2  1.679296e+03  3.498076e+03  \n",
       "3  3.498072e+03 -1.679291e+03  \n",
       "4  2.031470e+03 -8.414588e+02  \n",
       "5  6.893985e+03  1.664354e+04  \n",
       "6 -1.990062e+25  1.525329e+25  \n",
       "7  1.868693e+03  3.718649e+02  \n",
       "8  1.552870e+02 -6.637612e+02  \n",
       "9  1.263678e+04  2.191946e+03  "
      ]
     },
     "execution_count": 5,
     "metadata": {},
     "output_type": "execute_result"
    }
   ],
   "source": [
    "dataset"
   ]
  },
  {
   "cell_type": "code",
   "execution_count": 6,
   "metadata": {},
   "outputs": [],
   "source": [
    "def_grad = dataset[['F11', 'F12', 'F21', 'F22']].values.reshape(-1, 2, 2)\n",
    "pk1_simulated = dataset[['P11', 'P12', 'P21', 'P22']].values.reshape(-1, 2, 2)"
   ]
  },
  {
   "cell_type": "code",
   "execution_count": 7,
   "metadata": {},
   "outputs": [],
   "source": [
    "def get_continuum_quantities(deformation_gradient):\n",
    "    C = jnp.matmul(deformation_gradient.T, deformation_gradient)\n",
    "    I_1 = jnp.trace(C) + 1.0\n",
    "    I_3 = jnp.linalg.det(C)\n",
    "    J = jnp.sqrt(I_3)\n",
    "    I_hat_1 = I_1 / J**(2/3)\n",
    "    return I_hat_1, J"
   ]
  },
  {
   "cell_type": "code",
   "execution_count": 8,
   "metadata": {},
   "outputs": [],
   "source": [
    "def strain_energy_density(deformation_gradient):\n",
    "    I_hat_1, J = get_continuum_quantities(deformation_gradient)\n",
    "\n",
    "    # material parameters\n",
    "    mu = 180.5\n",
    "    lmbda_m = 2.8\n",
    "    D = 0.0025\n",
    "    \n",
    "    psi = (mu * ( 1/2 * (I_hat_1-3) +\n",
    "                 1/(20 *lmbda_m**2.0) * (I_hat_1**2-9) +\n",
    "                 11/(1050 *lmbda_m**4.0) * (I_hat_1**3-27) +\n",
    "                 19/(7000 *lmbda_m**6.0) * (I_hat_1**4-81) +\n",
    "                 519/(673750 *lmbda_m**8.0) * (I_hat_1**5-243) ) +\n",
    "                 1/D * ((J**2-1)/2 - jnp.log(J))\n",
    "    )\n",
    "\n",
    "    return psi"
   ]
  },
  {
   "cell_type": "code",
   "execution_count": 9,
   "metadata": {},
   "outputs": [],
   "source": [
    "def pk1_stress(deformation_gradient):\n",
    "\n",
    "    strain_energy_density_gradient = jax.jacrev(strain_energy_density)\n",
    "    \n",
    "    pk1_stress = strain_energy_density_gradient(deformation_gradient)\n",
    "\n",
    "    return pk1_stress\n",
    "\n",
    "def pk2_stress(deformation_gradient, pk1_stress):\n",
    "    return jnp.matmul(jnp.linalg.inv(deformation_gradient), pk1_stress)\n",
    "\n",
    "def green_lagrange_strain(deformation_gradient):\n",
    "    return 1/2 * (jnp.matmul(deformation_gradient.T, deformation_gradient) - jnp.eye(2))"
   ]
  },
  {
   "cell_type": "code",
   "execution_count": 10,
   "metadata": {},
   "outputs": [],
   "source": [
    "def check_isclose(matrix1, matrix2):\n",
    "    return jnp.allclose(matrix1, matrix2, atol=1e-4)\n",
    "\n",
    "def check_symmetry(matrix):\n",
    "    return jnp.allclose(matrix, matrix.T, atol=1e-4)"
   ]
  },
  {
   "cell_type": "code",
   "execution_count": 11,
   "metadata": {},
   "outputs": [
    {
     "name": "stderr",
     "output_type": "stream",
     "text": [
      "No GPU/TPU found, falling back to CPU. (Set TF_CPP_MIN_LOG_LEVEL=0 and rerun for more info.)\n"
     ]
    }
   ],
   "source": [
    "pk1_analytical = jax.vmap(pk1_stress)(def_grad)\n",
    "pk2_analytical = jax.vmap(pk2_stress)(def_grad, pk1_analytical)\n",
    "gl_strain = jax.vmap(green_lagrange_strain)(def_grad)"
   ]
  },
  {
   "cell_type": "code",
   "execution_count": 12,
   "metadata": {},
   "outputs": [],
   "source": [
    "pk2_simulated = jax.vmap(pk2_stress)(def_grad, pk1_simulated)"
   ]
  },
  {
   "cell_type": "code",
   "execution_count": 13,
   "metadata": {},
   "outputs": [
    {
     "data": {
      "text/plain": [
       "Array([ True,  True,  True,  True,  True,  True, False,  True,  True,\n",
       "        True], dtype=bool)"
      ]
     },
     "execution_count": 13,
     "metadata": {},
     "output_type": "execute_result"
    }
   ],
   "source": [
    "jax.vmap(check_isclose)(pk1_analytical, pk1_simulated)"
   ]
  },
  {
   "cell_type": "code",
   "execution_count": 14,
   "metadata": {},
   "outputs": [
    {
     "data": {
      "text/plain": [
       "Array([ True,  True,  True,  True,  True,  True, False,  True,  True,\n",
       "        True], dtype=bool)"
      ]
     },
     "execution_count": 14,
     "metadata": {},
     "output_type": "execute_result"
    }
   ],
   "source": [
    "jax.vmap(check_isclose)(pk2_analytical, pk2_simulated)"
   ]
  },
  {
   "cell_type": "code",
   "execution_count": 16,
   "metadata": {},
   "outputs": [
    {
     "data": {
      "text/plain": [
       "array([[-7.44295654e+25,  5.70483418e+25],\n",
       "       [-1.99006154e+25,  1.52532878e+25]])"
      ]
     },
     "execution_count": 16,
     "metadata": {},
     "output_type": "execute_result"
    }
   ],
   "source": [
    "pk1_simulated[6]"
   ]
  },
  {
   "cell_type": "code",
   "execution_count": 17,
   "metadata": {},
   "outputs": [
    {
     "data": {
      "text/plain": [
       "Array([[-7.95551888e+25,  6.09769996e+25],\n",
       "       [-2.12710807e+25,  1.63037139e+25]], dtype=float64)"
      ]
     },
     "execution_count": 17,
     "metadata": {},
     "output_type": "execute_result"
    }
   ],
   "source": [
    "pk1_analytical[6]"
   ]
  },
  {
   "cell_type": "markdown",
   "metadata": {},
   "source": [
    "Here are the observations that I have regarding the RVE simulation:\n",
    " \n",
    "1. For small \"uniaxial load\", we are able to retrieve analytical $\\mathbf{P}$ results, and we obtained symmetric $\\mathbf{S}$\n",
    "2. For small symmetric deformation gradients, we are able to retrieve analytical $\\mathbf{P}$ results, and we obtained symmetric $\\mathbf{S}$\n",
    "3. For slightly larger symmetric deformation gradients, we are able to retrieve analytical $\\mathbf{P}$ results, however in one case we could not obtain symmetric $\\mathbf{S}$. This could be because our 'symmetry tolerance' was set too high. Setting a slightly higher tolerance resulted in ~ symmetric $\\mathbf{S}$\n",
    "4. When tested with a slightly more extended set of experiments in the DoE, we obtained symmetric $\\mathbf{S}$ (increased tolerance)\n",
    "5. There was one case where we did not get a match for $\\mathbf{P}$, and therefore naturally did not get symmetric $\\mathbf{S}$. This experiment could not reach the $\\mathbf{F}_\\text{target}$, since the FE simulation lost its convergence during the displacement increments. I had done a \"trick\" in my code that we export the last converged step's strain and stress states as outputs, i.e. a $(\\mathbf{\\hat{F}}, \\mathbf{\\hat{P}})$ pair, so that we are not \"wasting\" any simulation runs. If we look carefully, what happens is that the $\\mathbf{F}_\\text{target}$ is in a 'rotated state', that is tricky to reach from $\\mathbf{F}_\\text{init} = \\mathbf{1}$ when proceeding incrementally. The tricky aspect is that the RVE reaches an intermediate displacement state $\\mathbf{F}_\\text{crit}$ which has $\\det \\mathbf{F}_\\text{crit}\\to 0$. (Note that $\\mathbf{F}_\\text{target}$ by itself doesn't need to have any such problems). This throws the simulation off completely, and the RVE reach extremely high stress states (in that last converged step). Therefore in saved displacement state corresponding to $\\mathbf{\\hat{F}}$ , the error between the analytical stress $\\mathbf{\\hat{P}}_\\text{analytical}$ and simulated stress $\\mathbf{\\hat{P}}_\\text{RVE}$  gets magnified considerably. This is the reason we are getting a mismatch."
   ]
  },
  {
   "cell_type": "markdown",
   "metadata": {},
   "source": []
  }
 ],
 "metadata": {
  "kernelspec": {
   "display_name": "ml_topopt3",
   "language": "python",
   "name": "python3"
  },
  "language_info": {
   "codemirror_mode": {
    "name": "ipython",
    "version": 3
   },
   "file_extension": ".py",
   "mimetype": "text/x-python",
   "name": "python",
   "nbconvert_exporter": "python",
   "pygments_lexer": "ipython3",
   "version": "3.10.12"
  }
 },
 "nbformat": 4,
 "nbformat_minor": 2
}
